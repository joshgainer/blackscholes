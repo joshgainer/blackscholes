{
 "cells": [
  {
   "cell_type": "code",
   "execution_count": 55,
   "metadata": {},
   "outputs": [],
   "source": [
    "from math import log, sqrt, pi, exp\n",
    "from scipy.stats import norm\n",
    "from datetime import datetime, date\n",
    "import numpy as np\n",
    "import pandas as pd\n",
    "from subprocess import call\n",
    "from IPython.display import Image\n",
    "import yfinance as yf\n"
   ]
  },
  {
   "cell_type": "code",
   "execution_count": 56,
   "metadata": {},
   "outputs": [
    {
     "data": {
      "image/png": "[encoded data removed]",
      "text/plain": [
       "<IPython.core.display.Image object>"
      ]
     },
     "execution_count": 56,
     "metadata": {},
     "output_type": "execute_result"
    }
   ],
   "source": [
    "### This is the Black-Scholes Model used to price European style options. \n",
    "### We will be making a function for both calls and puts of european style using this formula\n",
    "### to get the theoretical price of an option given certain inputs.\n",
    "### We will also try and feed data directly from yahoo to see if we can get some options priced.\n",
    "\n",
    "Image(filename='blackscholesformula.png')"
   ]
  },
  {
   "cell_type": "code",
   "execution_count": 57,
   "metadata": {},
   "outputs": [],
   "source": [
    "# C = call option price\n",
    "# N = CDF of the normal distribution\n",
    "# S_t = spot price of an asset at time t\n",
    "# K = strike price\n",
    "# r = risk-free interest rate\n",
    "# t = time to maturity\n",
    "# σ = volatility of the asset\n",
    "\n",
    "### you can multiply this formula by -1 and get the theoretical price of a Put, just make sure\n",
    "### to carry the negative into the CDF of d_1 and d_2 (N(-d_1), N(-d_2))"
   ]
  },
  {
   "cell_type": "code",
   "execution_count": null,
   "metadata": {},
   "outputs": [],
   "source": []
  },
  {
   "cell_type": "code",
   "execution_count": 58,
   "metadata": {},
   "outputs": [],
   "source": [
    "## Below is a class that allows us to pass an instance and get a theoretical option premium.\n",
    "## call_price and put_price are methods for calculating the price of a theoretical call/put after \n",
    "## you have created an instance for whatever contract is being analyzed.\n",
    "\n",
    "class BlackScholes:\n",
    "    \n",
    "    def __init__(self, S, K, r, sigma, t):\n",
    "        self.S = S\n",
    "        self.K = K\n",
    "        self.r = r\n",
    "        self.sigma = sigma\n",
    "        self.t = t\n",
    "        self.d1 = (log(S/K)+(r+(sigma**2)/2)*t)/(sigma*sqrt(t))\n",
    "        self.d2 = self.d1 - sigma*sqrt(t)\n",
    "        \n",
    "    def call_price(self):\n",
    "        return self.S*norm.cdf(self.d1) - self.K*exp(-self.r*self.t)*norm.cdf(self.d2)\n",
    "    \n",
    "    def put_price(self):\n",
    "        return self.K*exp(-self.r*self.t)*norm.cdf(-self.d2) - self.S*norm.cdf(-self.d1)\n"
   ]
  },
  {
   "cell_type": "code",
   "execution_count": 59,
   "metadata": {},
   "outputs": [
    {
     "name": "stdout",
     "output_type": "stream",
     "text": [
      "\n",
      "The Black-Scholes model predicts that the Jan 2022 $700.00 strike Calls should be worth $94.3 and the Puts should\n",
      "be worth $125.21. \n",
      "\n",
      "The actual values as of close on 07/13/2021 were $94.68 for the calls and $124.7 for the puts.\n",
      "\n"
     ]
    }
   ],
   "source": [
    "## IMPORTANT: time needs to be converted to years! \n",
    "\n",
    "d0 = date(2022, 1, 21)\n",
    "jan_22_diff = d0 - date.today()\n",
    "time = jan_22_diff.days/365\n",
    "\n",
    "\n",
    "## I used historical volatility of 0.556 for tesla because this is the historical volatility for 180 days+.\n",
    "## The risk free rate used was the 6-month treasury note.\n",
    "\n",
    "tesla_jan_2022 = BlackScholes(668.91, 700, r=0.0005, sigma=.556, t=time)\n",
    "theoretical_call = tesla_jan_2022.call_price()\n",
    "theoretical_put = tesla_jan_2022.put_price()\n",
    "\n",
    "\n",
    "## All values for \"actual\" price and price of Tesla shares were used as of close on 07/13/2021, and the midpoint\n",
    "## between the bid-ask was used. \n",
    "\n",
    "actual_call = 94.68\n",
    "actual_put = 124.70\n",
    "\n",
    "print(f\"\"\"\\nThe Black-Scholes model predicts that the Jan 2022 $700.00 strike Calls should be worth ${round(theoretical_call,2)} and the Puts should\n",
    "be worth ${round(theoretical_put,2)}. \\n\\nThe actual values as of close on 07/13/2021 were ${actual_call} for the calls and ${actual_put} for the puts.\\n\"\"\")\n"
   ]
  },
  {
   "cell_type": "code",
   "execution_count": null,
   "metadata": {},
   "outputs": [],
   "source": []
  },
  {
   "cell_type": "code",
   "execution_count": 60,
   "metadata": {},
   "outputs": [],
   "source": [
    "## I will update this further to make data from yahoo feed into the valeus for the parameters in my \n",
    "## class. For now, this just gives an idea as to how we can use python to quickly calculate theoretical options\n",
    "## prices!"
   ]
  },
  {
   "cell_type": "code",
   "execution_count": 67,
   "metadata": {},
   "outputs": [
    {
     "name": "stdout",
     "output_type": "stream",
     "text": [
      "\n",
      "TSLA's closing price was 664.39\n",
      "\n",
      "^IRX's closing price was 0.045\n",
      "\n",
      "The ticker values save into ticker_values list: [664.3900146484375, 0.044999998062849045] \n",
      "\n"
     ]
    }
   ],
   "source": [
    "## This method will retrieve the most recent value for daily closing prices of whatever ticker I want.\n",
    "tickers = [\"TSLA\", \"^IRX\"]\n",
    "def last_price(symbol):\n",
    "    ticker = yf.Ticker(symbol)\n",
    "    todays_data = ticker.history(period='1d')\n",
    "    return todays_data['Close'][0]\n",
    "\n",
    "ticker_values = []\n",
    "\n",
    "for i in tickers:\n",
    "    ticker_values.append(last_price(i))\n",
    "    print(f\"\\n{i}'s closing price was\",round(last_price(i),4))\n",
    "\n",
    "print(\"\\nThe ticker values save into ticker_values list:\", ticker_values,\"\\n\")"
   ]
  },
  {
   "cell_type": "code",
   "execution_count": 68,
   "metadata": {},
   "outputs": [],
   "source": [
    "tsla = yf.Ticker('TSLA')\n",
    "tsla_hist = tsla.history(period='max')\n"
   ]
  },
  {
   "cell_type": "code",
   "execution_count": 63,
   "metadata": {},
   "outputs": [
    {
     "data": {
      "image/png": "[encoded data removed]",
      "text/plain": [
       "<IPython.core.display.Image object>"
      ]
     },
     "execution_count": 63,
     "metadata": {},
     "output_type": "execute_result"
    }
   ],
   "source": [
    "# Below is the calculation used for historical volatility for our chosen security:\n",
    "\n",
    "Image(filename='historicalvol.png')"
   ]
  },
  {
   "cell_type": "code",
   "execution_count": 85,
   "metadata": {},
   "outputs": [
    {
     "name": "stdout",
     "output_type": "stream",
     "text": [
      "0.6937\n"
     ]
    }
   ],
   "source": [
    "## We start by finding the daily returns for TSLA. We will multiply standard dev. of the last 252 days of returns\n",
    "## by sqrt(252) to find the volatility. sqrt(252) is because we need to annualize the standard deviation.\n",
    "\n",
    "## i.e. 𝜎^2 = SUM(𝜎_i^2) for i=1, n=252 for 252 trading days. There is also a covariance component for this, but we are\n",
    "## assuming no covariance since there are no other variables.\n",
    "\n",
    "## Therefore, we can continue by showing 𝜎^2 = 252 * 𝜎^2 (daily variance), take the square root and we get \n",
    "##     𝜎 (annual) = sqrt(252) * 𝜎 (daily)\n",
    "\n",
    "# ------------------------------------------------------------------------------------------------------- #\n",
    "\n",
    "## Below script creates a new column called \"previous_close\" which is the previous closing price of our stock.\n",
    "## the next line is the calculation for daily return (will produce a NaN value for first obs.)\n",
    "\n",
    "tsla_hist = tsla_hist.assign(previous_close = tsla_hist.Close.shift(1))\n",
    "tsla_hist[\"Returns\"] = (tsla_hist.Close - tsla_hist.previous_close)/tsla_hist.previous_close\n",
    "\n",
    "\n",
    "## So now we can calculate sigma for the last 252 trading days:\n",
    "\n",
    "sigma = sqrt(252) * tsla_hist[\"Returns\"][-253:-1].std()\n",
    "print(round(sigma, 4))"
   ]
  },
  {
   "cell_type": "code",
   "execution_count": null,
   "metadata": {},
   "outputs": [],
   "source": [
    "## our sigma is pretty high, probably higher than what is realistic. However, this is likely due to the fact that the \n",
    "## year involved high amounts of volatility in the entire market, including incredible returns from TSLA shares.\n",
    "## If this model were to go live, it would likely be best to take some average of multiple years from TSLA vol."
   ]
  },
  {
   "cell_type": "code",
   "execution_count": 90,
   "metadata": {},
   "outputs": [],
   "source": [
    "## Now to find a quick way to get t, duration (in years) until expiration.\n",
    "## Basically just need to enter the year, month, and day of expiration. \n",
    "\n",
    "def time_duration(year, month, day):\n",
    "    d = date(year, month, day)\n",
    "    difference = d - date.today()\n",
    "    time_dur = difference.days/365\n",
    "    return time_dur\n",
    "\n",
    "t = time_duration(2022, 1, 22)"
   ]
  },
  {
   "cell_type": "code",
   "execution_count": 105,
   "metadata": {},
   "outputs": [
    {
     "name": "stdout",
     "output_type": "stream",
     "text": [
      "TSLA call theoretical price: 124.464 \n",
      "TSLA put theoretical price: 143.699\n"
     ]
    }
   ],
   "source": [
    "## Now we have all of the variables covered except for strike price, which can be entered into a variable\n",
    "## and then passed to the function, or we can just remember to specify K= strike_price in the function\n",
    "## directly (i.e. K = 300 for a 300 strike contract)\n",
    "\n",
    "S = ticker_values[0]\n",
    "K = 700\n",
    "r = ticker_values[1]\n",
    "\n",
    "## sigma and t are already specified\n",
    "\n",
    "tsla_contract_model = BlackScholes(S, K, r, sigma, t)\n",
    "tsla_call = tsla_contract_model.call_price()\n",
    "tsla_put = tsla_contract_model.put_price()\n",
    "\n",
    "print(f\"TSLA call theoretical price: {round(tsla_call,3)} \\nTSLA put theoretical price: {round(tsla_put,3)}\")"
   ]
  },
  {
   "cell_type": "code",
   "execution_count": null,
   "metadata": {},
   "outputs": [],
   "source": []
  },
  {
   "cell_type": "code",
   "execution_count": null,
   "metadata": {},
   "outputs": [],
   "source": []
  }
 ],
 "metadata": {
  "kernelspec": {
   "display_name": "Python 3",
   "language": "python",
   "name": "python3"
  },
  "language_info": {
   "codemirror_mode": {
    "name": "ipython",
    "version": 3
   },
   "file_extension": ".py",
   "mimetype": "text/x-python",
   "name": "python",
   "nbconvert_exporter": "python",
   "pygments_lexer": "ipython3",
   "version": "3.7.6"
  }
 },
 "nbformat": 4,
 "nbformat_minor": 4
}
